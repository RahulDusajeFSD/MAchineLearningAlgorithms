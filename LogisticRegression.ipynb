{
 "cells": [
  {
   "cell_type": "code",
   "execution_count": 1,
   "metadata": {},
   "outputs": [
    {
     "data": {
      "text/plain": [
       "0.8428571428571429"
      ]
     },
     "execution_count": 1,
     "metadata": {},
     "output_type": "execute_result"
    }
   ],
   "source": [
    "import pandas as pd\n",
    "import numpy as np\n",
    "df=pd.read_csv(\"/home/rahul/Downloads/datasets_1275_2286_train_and_test2 (1).csv\")\n",
    "df = df[df.Embarked.notnull()]\n",
    "x=df.iloc[:, [0,1,2,3,4,12,21,24]]\n",
    "y=df.iloc[:, -1]\n",
    "\n",
    "from sklearn.model_selection import train_test_split\n",
    "x_train, x_test ,y_train, y_test = train_test_split(x, y, test_size = 0.214)\n",
    "\n",
    "from sklearn.preprocessing import StandardScaler\n",
    "sc= StandardScaler()\n",
    "x_train = sc.fit_transform(x_train)\n",
    "x_test=sc.transform(x_test)\n",
    "\n",
    "\n",
    "from sklearn.decomposition import PCA\n",
    "pca= PCA()\n",
    "x_train =pca.fit_transform(x_train)\n",
    "x_test=pca.transform(x_test)\n",
    "explained_variance=pca.explained_variance_ratio_\n",
    "explained_variance\n",
    "\n",
    "\n",
    "from sklearn.decomposition import PCA\n",
    "pca = PCA(n_components=5)\n",
    "x_train=pca.fit_transform(x_train)\n",
    "x_test=pca.transform(x_test)\n",
    "\n",
    "\n",
    "\n",
    "from sklearn.linear_model import LogisticRegression\n",
    "lr=LogisticRegression()\n",
    "lr.fit(x_train,y_train)\n",
    "y_pred=lr.predict(x_test)\n",
    "\n",
    "from sklearn import metrics\n",
    "metrics.accuracy_score(y_test,y_pred)\n",
    "\n",
    "\n",
    "# predict_me=np.array([1,22.0,7.25,0,1,3,2.0])\n",
    "# b=predict_me.T\n",
    "# b = b.reshape(1,len(b))\n",
    "# b.shape\n",
    "# lr.predict(b)"
   ]
  },
  {
   "cell_type": "code",
   "execution_count": null,
   "metadata": {},
   "outputs": [],
   "source": []
  }
 ],
 "metadata": {
  "kernelspec": {
   "display_name": "Python 3",
   "language": "python",
   "name": "python3"
  },
  "language_info": {
   "codemirror_mode": {
    "name": "ipython",
    "version": 3
   },
   "file_extension": ".py",
   "mimetype": "text/x-python",
   "name": "python",
   "nbconvert_exporter": "python",
   "pygments_lexer": "ipython3",
   "version": "3.6.9"
  }
 },
 "nbformat": 4,
 "nbformat_minor": 2
}
