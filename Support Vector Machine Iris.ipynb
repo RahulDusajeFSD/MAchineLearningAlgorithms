{
 "cells": [
  {
   "cell_type": "code",
   "execution_count": null,
   "metadata": {},
   "outputs": [],
   "source": [
    "import pandas as pd\n",
    "df=pd.read_csv(\"/home/rahul/Downloads/datasets_19_420_Iris (1).csv\")\n",
    "\n",
    "from sklearn.preprocessing import LabelEncoder\n",
    "le=LabelEncoder()\n",
    "df['Species']=le.fit_transform(df['Species'])\n",
    "\n",
    "\n",
    "x=df.iloc[:,1:-1]\n",
    "y=df.iloc[:,-1]\n",
    "from sklearn.model_selection import train_test_split\n",
    "x_train, x_test, y_train, y_test=train_test_split(x,y,test_size=4/15)\n",
    "\n",
    "from sklearn.svm import  SVC  # support vector classifier\n",
    "model=SVC()\n",
    "model.fit(x_train ,y_train)\n",
    "y_pred= model.predict(x_test)\n",
    "\n",
    "from sklearn import metrics\n",
    "metrics.accuracy_score(y_pred,y_test)\n",
    "\n",
    "from sklearn.metrics import classification_report\n",
    "print(classification_report(y_test, y_pred))\n",
    "\n",
    "import numpy as np\n",
    "predict_me=np.array([6.2, 3.4, 5.4, 2.3]) \n",
    "b=predict_me.T\n",
    "b=b.reshape(1,len(b))\n",
    "model.predict(b)"
   ]
  }
 ],
 "metadata": {
  "kernelspec": {
   "display_name": "Python 3",
   "language": "python",
   "name": "python3"
  },
  "language_info": {
   "codemirror_mode": {
    "name": "ipython",
    "version": 3
   },
   "file_extension": ".py",
   "mimetype": "text/x-python",
   "name": "python",
   "nbconvert_exporter": "python",
   "pygments_lexer": "ipython3",
   "version": "3.6.9"
  }
 },
 "nbformat": 4,
 "nbformat_minor": 2
}
